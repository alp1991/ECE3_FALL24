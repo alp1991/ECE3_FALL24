{
 "cells": [
  {
   "cell_type": "markdown",
   "metadata": {
    "slideshow": {
     "slide_type": "slide"
    }
   },
   "source": [
    "##### Welcome to ECE 3\n",
    "\n",
    "### Python Programming for Science & Engineering\n",
    "\n",
    "$\\color{#003660}{\\text{Y. Alp Aslandogan, PhD - Instructor}}$ \n",
    "\n",
    "$\\color{#003660}{\\text{Slides are adopted from Dr. Nina Miolane, UCSB}}$ \n",
    "\n"
  ]
  },
 
  {
   "cell_type": "markdown",
   "metadata": {
    "slideshow": {
     "slide_type": "slide"
    }
   },
   "source": [
    "# Outline: Welcome\n",
    "\n",
    "- **Syllabus for ECE 3**\n",
    "\n",
    "- Python Programming for Science and Engineering\n",
    "    - Why learn Python?\n",
    "    - Python Programming for Medicine: Example of Medical Diagnosis\n",
    "\n",
    "<center><img src=\"figs/00_signal_processing.jpeg\" width=600px alt=\"default\"/></center>"
  ]
  },
  {
   "cell_type": "markdown",
   "metadata": {
    "slideshow": {
     "slide_type": "notes"
    }
   },
   "source": [
    "<a id='sec-syllabus'></a>"
  ]
  },
  {
   "cell_type": "markdown",
   "metadata": {
    "slideshow": {
     "slide_type": "slide"
    }
   },
   "source": [
    "# Syllabus\n",
    "\n",
    "The course ECE 3 is organized into 4 units.\n",
    "\n",
    "- Unit 01: Core Python Language\n",
    "- Unit 02: Computing with Data in Python (Vectors and Matrices)\n",
    "- Unit 03: Summarizing Data in Python\n",
    "- Unit 04: Predicting from Data with Machine Learning in Python\n",
    "\n",
    "<center><img src=\"figs/00_signal_processing.jpeg\" width=600px alt=\"default\"/></center>"
  ]
  },
  {
   "cell_type": "markdown",
   "metadata": {
    "slideshow": {
     "slide_type": "slide"
    }
   },
   "source": [
    "# Instructor"
  ]
  },
  {
   "cell_type": "markdown",
   "metadata": {
    "cell_style": "center"
   },
   "source": [
    "<center>\n",
    "    Y. Alp Aslandogan PhD, \n",
    "</center>"
  ]
  },
  {
   "cell_type": "markdown",
   "metadata": {},
   "source": [
    "$\\color{#047C91}{\\text{Office Hours}}$: OH: Tuesdays 12:30-1:30 PM at Room 109, Trailer 380 or via Zoom:[Zoom room](https://us04web.zoom.us/j/2485240757?pwd=zWKOxQsUmDW39uhJLUwOFgUOUwl4y9.1)."
  ]
  },
  {
   "cell_type": "markdown",
   "metadata": {
    "slideshow": {
     "slide_type": "slide"
    }
   },
   "source": [
    "# Teaching Assistants"
  ]
  },
  {
   "cell_type": "markdown",
   "metadata": {
    "cell_style": "center"
   },
   "source": [
    "$\\color{#047C91}{\\text{Office Hours}}$: in ECE TA Offices in Trailer 699, Room 103:\n",
    "- Arghavan Zibaie. OH: Mon 09-10 AM, Fri 8:30-9:30 AM\n",
    "- Utso Majumder OH: Mon 12:00-1:00 PM \n",
    "- Pushpita Joardar. OH: Thu 1:00-3:00 PM \n",
    "- Karthik Somayaji. OH: Tue 1:00-3:00 PM \n",
    "- Oindrilla Chatterjee. OH: Tue 09:30-11:30 AM\n",
    "- Aaditya Prakash Kattekola. OH: Fri 03:00-05:00 PM"
  ]
  },
  {
   "cell_type": "markdown",
   "metadata": {
    "slideshow": {
     "slide_type": "slide"
    }
   },
   "source": [
    "# Classes and Labs"
  ]
  },
  {
   "cell_type": "markdown",
   "metadata": {
    "cell_style": "center",
    "slideshow": {
     "slide_type": "slide"
    }
   },
   "source": [
    "$\\color{#EF5645}{\\text{Classes}}$: in ILP 1101, MW 3:30 PM - 4:45 PM\n",
    "\n",
    "$\\color{#EF5645}{\\text{Labs}}$: in ESB 1003 \n",
    "- Mo    5:00 – 6:50 PM   TA: Aaaditya Kattekola\n",
    "- Tu    5:00 – 6:50 PM   TA: Pushpita Joardar\n",
    "- Tu    7:00 – 8:50 PM   TA: Arghavan Zibaie\n",
    "- Wed   7:00 - 8:50 PM   TA: Karthik Somayaji\n",
    "- Th    5:00 – 6:50 PM   TA: Oindrilla Chatterjee\n",
    "- Th    7:00 – 8:50 PM   TA: Utso Majumder"
  ]
  },
  {
   "cell_type": "markdown",
   "metadata": {
    "slideshow": {
     "slide_type": "slide"
    }
   },
   "source": [
    "$\\color{#EF5645}{\\text{Remarks}}$: \n",
    "- You are required to attend all the lectures, labs and the exams.\n",
    "- Do not enroll in other courses whose schedule is conflicting with ECE 3. \n",
    "- If you cannot attend all lectures, labs and the exams, please drop this class."
  ]
  },
  {
   "cell_type": "markdown",
   "metadata": {
    "slideshow": {
     "slide_type": "slide"
    }
   },
   "source": [
    "# Textbooks\n",
    "\n",
    "The class goes over concepts from the textbooks:\n",
    "- Unit 01: [Think Python](https://greenteapress.com/wp/think-python-2e/) by Downey. (freely available online)\n",
    "- Unit 01: [Introduction to Python Programming and Data Structures](https://www.pearson.com/en-us/subject-catalog/p/introduction-to-python-programming-and-data-structures/P200000003438/9780137915972) by Daniel Liang. (Purchase not required. Slides will be posted Canvas)\n",
    "- Unit 02-03: [Introduction to Applied Linear Algebra](https://web.stanford.edu/~boyd/vmls/vmls.pdf), by Boyd & Vandenberghe.\n",
    "- Unit 04: [Introduction to Statistical Learning](https://www.statlearning.com/) by James, Witten, Hastie, Tibshirani, Taylor.\n",
    "\n",
    "$\\color{#EF5645}{\\text{Remarks}}$:\n",
    "- The textbooks (except for Liang) are freely available online. \n",
    "- We will not cover all topics in the books. \n",
    "- Feel free to use other books as reference."
  ]
  },
  {
   "cell_type": "markdown",
   "metadata": {
    "slideshow": {
     "slide_type": "slide"
    }
   },
   "source": [
    "# GitHub and Canvas\n",
    "\n",
    "The slides of the lectures will be on GitHub and Canvas:\n",
    "\n",
    "https://github.com/alp1991/ECE3_FALL24\n",
    "\n"
  ]
  },
  {
   "cell_type": "markdown",
   "metadata": {
    "slideshow": {
     "slide_type": "slide"
    }
   },
   "source": [
    "$\\color{#EF5645}{\\text{Quick Survey to get to know you:}}$\n",
    "\n",
    "Survey done in class.\n"
   ]
  },
  {
   "cell_type": "markdown",
   "metadata": {
    "slideshow": {
     "slide_type": "slide"
    }
   },
   "source": [
    "# Grading\n",
    "\n",
    "- **Lab Assignments (Homework) 50%**\n",
    "    - Posted on Fridays by 11:00 PM PST. Due next Friday by 11:00 PM PST. \n",
    "    - No late HW. \n",
    "- **Exams: 45%**\n",
    "    - Final Exam 25%: TBA.\n",
    "    - In-class Quizzes 20%: Every other week starting on Wed, Oct 9th.\n",
    "    - No make-up exam except for university approved, documented emergencies.\n",
    "- **Constructive Participation: 5%**\n",
    "    - Asking and answering questions, in class, labs and on Canvas. Sending feedback about the class during the quarter.\n",
    "- **Extra credit: up to +10% total**\n",
    "    - Additional assignments (up to +10%).\n",
    "\n"
  ]
  },
  {
   "cell_type": "markdown",
   "metadata": {
    "slideshow": {
     "slide_type": "slide"
    }
   },
   "source": [
    "# Datacamp (Optional) \n",
    "\n",
    "Use the Datacamp courses Introduction to Python and Intermediate Python courses to improve your hands-on Python experience.\n",
    "\n",
    "Subject to confirmation of availability, a link will be provided to join Datacamp and use your `@ucsb.edu` address."
  ]
  },
  {
   "cell_type": "markdown",
   "metadata": {
    "slideshow": {
     "slide_type": "slide"
    }
   },
   "source": [
    "# Lab Assignments (Homework)\n",
    "\n",
    "We will use:\n",
    "- Python version 3.9 or higher as our programming language,\n",
    "- Jupyter notebooks to run Python interactively in a web browser.\n",
    "\n",
    "If you want to use Python on your own machine, download Anaconda which will install everything you need to run Python 3.9+ and Jupyter notebooks:\n",
    "- Anaconda: https://www.anaconda.com/download\n",
    "There are other options from Jupyter.org, Google Colab, and Microsoft Visual Studio Code with Jupyter plug in.\n",
    "The TAs will demo the setup process for one or more of these environment in the lab sessions."
  ]
  },
  {
   "cell_type": "markdown",
   "metadata": {
    "slideshow": {
     "slide_type": "notes"
    }
   },
   "source": [
    "<a id='sec-ece'></a>"
  ]
  },
  {
   "cell_type": "markdown",
   "metadata": {
    "slideshow": {
     "slide_type": "slide"
    }
   },
   "source": [
    "# Outline: Welcome\n",
    "\n",
    "- Syllabus for ECE 3\n",
    "\n",
    "- **Python Programming for Science and Engineering**\n",
    "    - **Why learning Python?**\n",
    "    - Python Programming for Medicine: Example of Medical Diagnosis\n",
    "\n",
    "<center><img src=\"figs/00_signal_processing.jpeg\" width=600px alt=\"default\"/></center>"
  ]
  },
  {
   "cell_type": "markdown",
   "metadata": {
    "cell_style": "center",
    "slideshow": {
     "slide_type": "slide"
    }
   },
   "source": [
    "# What is Python?\n",
    "\n",
    "Python is a _programming language_ used for general-purpose software engineering.\n",
    "\n",
    "Python was initially developed in the late 1980’s by Guido Van Rossum.\n",
    "\n",
    "Van Rossum modeled Python after the English language to make it easier to read and write than other programming languages like C.\n",
    "\n",
    "Python has increased in popularity due to the rise of machine learning and artificial intelligence (AI). "
  ]
  },
  {
   "cell_type": "markdown",
   "metadata": {
    "slideshow": {
     "slide_type": "slide"
    }
   },
   "source": [
    "**Fun fact:** Python is named after a British comedy group.\n",
    "\n",
    "When he began implementing Python, Guido van Rossum was also reading the published scripts from “Monty Python's Flying Circus”, a BBC comedy series from the 1970s. Van Rossum thought he needed a name that was short, unique, and slightly mysterious, so he decided to call the language Python.\n",
    "\n",
    "<center><img src=\"figs/00_montypython.gif\" width=600px alt=\"default\"/> The Knights Who Say \"Ni\". From Monty Python and the Holy Grail.</center>"
  ]
  },
  {
   "cell_type": "markdown",
   "metadata": {
    "cell_style": "center",
    "slideshow": {
     "slide_type": "slide"
    }
   },
   "source": [
    "# Why learning Python?\n",
    "\n",
    "- Python is extremely versatile, with multiple uses\n",
    "- Python is the fastest growing programming language\n",
    "- Python is in (very) high demand for jobs\n",
    "- Python is easy to read, write, and learn\n",
    "- Python has an incredibly supportive community"
  ]
  },
  {
   "cell_type": "markdown",
   "metadata": {
    "slideshow": {
     "slide_type": "slide"
    }
   },
   "source": [
    "# Python Programmers\n",
    "\n",
    "- Create the smart power grid to help manage energy distribution (wind, solar, etc) to the country\n",
    "- Implement communication systems to help doctors perform surgery with smarter robots\n",
    "- Enhance image processing and make better instruments to help diagnose and treat diseases\n",
    "- Design software to help speed up networks and processors that run your smartphone and other electronics\n",
    "- Work with digital forensics to help police and the FBI track and catch cyber criminals"
  ]
  },
  {
   "cell_type": "markdown",
   "metadata": {
    "slideshow": {
     "slide_type": "slide"
    }
   },
   "source": [
    "# Job Market for Python Programming\n",
    "\n",
    "- One of the fastest growing career fields in the US\n",
    "- Pays well.\n",
    "- Can be applied in many different fields!\n",
    "- Good knowledge foundation to start a company."
  ]
  },
  {
   "cell_type": "markdown",
   "metadata": {
    "slideshow": {
     "slide_type": "slide"
    }
   },
   "source": [
    "# Outline: Welcome\n",
    "\n",
    "- Syllabus for ECE 3\n",
    "\n",
    "- **Python Programming for Science and Engineering**\n",
    "    - Why learning Python?\n",
    "    - **Python Programming for Medicine: Example of Medical Diagnosis**\n",
    "\n",
    "<center><img src=\"figs/00_signal_processing.jpeg\" width=600px alt=\"default\"/></center>"
  ]
  },
  {
   "cell_type": "markdown",
   "metadata": {
    "slideshow": {
     "slide_type": "slide"
    }
   },
   "source": [
    "# Example of Medical Diagnosis"
  ]
  },
  {
   "cell_type": "markdown",
   "metadata": {},
   "source": [
    "<center><img src=\"figs/00_rhd_map.jpg\" width=600px alt=\"default\"/></center>\n",
    "\n",
    "Rheumatic Heart Disease:\n",
    "- Heart valves damaged by rheumatic fever (complication of strep throat)\n",
    "- Rare in developed countries, 1 death every 3 minutes in developing countries\n",
    "- $\\color{#003660}{\\text{Treatment}}$: Easy to treat with antibiotics\n",
    "- $\\color{#EF5645}{\\text{Problem}}$: Hard to diagnose without proper medical infrastructure\n",
    "- Source: https://www.hopkinsmedicine.org/health/"
  ]
  },
  {
   "cell_type": "markdown",
   "metadata": {
    "slideshow": {
     "slide_type": "slide"
    }
   },
   "source": [
    "# A Solution Implemented in Python"
  ]
  },
  {
   "cell_type": "markdown",
   "metadata": {},
   "source": [
    "<center><img src=\"figs/00_echogps.png\" width=500px alt=\"default\"/></center>\n",
    "<center>Teacher in Kenya acquiring echocardiographies of his students (Caption Health)</center>\n",
    "\n",
    "- Portable echocardiography system\n",
    "- Automatic diagnosis algorithm\n",
    "- Reference: https://www.ncbi.nlm.nih.gov/pmc/articles/PMC7541096/",
    "\n",
    "$\\color{#003660}{\\text{Make quality medical imaging universally accessible}}$"
  ]
  },
  {
   "cell_type": "markdown",
   "metadata": {
    "slideshow": {
     "slide_type": "slide"
    }
   },
   "source": [
    "# A closer look: Image in the Computer"
  ]
  },
  {
   "cell_type": "markdown",
   "metadata": {},
   "source": [
    "<center><img src=\"figs/00_image_a.jpg\" alt=\"default\"/></center>\n",
    "\n",
    "<center>(a) Grayscale image of character 'A' (b) Binary representation of character 'A'; (c) Binary matrix representation and (d) Reshaped sample of character 'A'.</center>"
  ]
  },
  {
   "cell_type": "markdown",
   "metadata": {},
   "source": [
    "An image can be represented as a matrix or a vector.\n",
    "\n",
    "We will learn how to perform computations on vectors and matrices, thus on images."
  ]
  },
  {
   "cell_type": "markdown",
   "metadata": {
    "slideshow": {
     "slide_type": "slide"
    }
   },
   "source": [
    "# Questions?\n",
    "\n",
    "- Syllabus for ECE 3\n",
    "\n",
    "- Python Programming for Science and Engineering\n",
    "    - Why learning Python?\n",
    "    - Python Programming for Medicine: Example of Medical Diagnosis\n",
    "\n",
    "<center><img src=\"figs/00_signal_processing.jpeg\" width=600px alt=\"default\"/></center>"
  ]
  }
 ],
 "metadata": {
  "celltoolbar": "Slideshow",
  "kernelspec": {
   "display_name": "Python 3 (ipykernel)",
   "language": "python",
   "name": "python3"
  },
  "language_info": {
   "codemirror_mode": {
    "name": "ipython",
    "version": 3
   },
   "file_extension": ".py",
   "mimetype": "text/x-python",
   "name": "python",
   "nbconvert_exporter": "python",
   "pygments_lexer": "ipython3",
   "version": "3.9.9"
  }
 },
 "nbformat": 4,
 "nbformat_minor": 2
}
