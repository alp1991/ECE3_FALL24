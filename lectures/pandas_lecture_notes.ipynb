{
 "cells": [
  {
   "cell_type": "markdown",
   "metadata": {},
   "source": [
    "# Pandas DataFrames\n",
    "\n",
    "Pandas is one of the most widely used libraries in Python for data manipulation and analysis. \n",
    "It provides the `DataFrame` structure, which is a powerful tool for handling and analyzing structured data.\n"
   ]
  },
  {
   "cell_type": "markdown",
   "metadata": {},
   "source": [
    "### What is a Pandas DataFrame?\n",
    "A DataFrame is a table-like structure with rows and columns.\n",
    "Each column can have a different data type (e.g., integer, float, string).\n",
    "DataFrames have labeled axes:\n",
    "Row labels (index)\n",
    "Column labels (column names)\n",
    "They are built on top of NumPy and offer features like:\n",
    "Missing data handling.\n",
    "Easy row/column selection and filtering.\n",
    "Integration with various data sources (CSV, Excel, SQL, etc.)."
   ]
  },
  {
   "cell_type": "markdown",
   "metadata": {},
   "source": [
    "### **Comparison: Pandas DataFrame vs. NumPy 2D Array**\n",
    "\n",
    "| Feature                   | Pandas DataFrame                      | NumPy 2D Array                  |\n",
    "|---------------------------|----------------------------------------|----------------------------------|\n",
    "| **Structure**             | Tabular (rows and columns)            | Matrix-like (rows and columns)  |\n",
    "| **Data types**            | **Columns can have mixed types**          | Homogeneous (all elements must be the same type) |\n",
    "| **Labels**                | **Index and column labels**               | No labels, only positional indexing |\n",
    "| **Operations**            | Built-in methods for grouping, filtering, merging, and more | Limited to numerical operations |\n",
    "| **Integration**           | Easily integrates with files, databases, etc. | Requires custom handling or conversion(*) |\n",
    "| **Ease of use**           | Designed for heterogenous data manipulation | Suited for mathematical and array computations |\n",
    "\n",
    "A column in a dataframe is a pandas **Series** object. Which is similar to numpy 1D array, but supports labeled indexing."
   ]
  },
  {
   "cell_type": "code",
   "execution_count": 61,
   "metadata": {},
   "outputs": [
    {
     "name": "stderr",
     "output_type": "stream",
     "text": [
      "ic| s: a    10\n",
      "       b    20\n",
      "       c    30\n",
      "       d    40\n",
      "       dtype: int64\n"
     ]
    },
    {
     "data": {
      "text/plain": [
       "a    10\n",
       "b    20\n",
       "c    30\n",
       "d    40\n",
       "dtype: int64"
      ]
     },
     "execution_count": 61,
     "metadata": {},
     "output_type": "execute_result"
    }
   ],
   "source": [
    "import pandas as pd\n",
    "\n",
    "# Create a Pandas Series\n",
    "s = pd.Series([10, 20, 30, 40], index=['a', 'b', 'c', 'd'])\n",
    "ic(s)\n"
   ]
  },
  {
   "cell_type": "markdown",
   "metadata": {},
   "source": [
    "### DataFrame from a Dictionary"
   ]
  },
  {
   "cell_type": "code",
   "execution_count": null,
   "metadata": {},
   "outputs": [],
   "source": [
    "import pandas as pd\n",
    "\n",
    "# Example DataFrame\n",
    "data = {\n",
    "    'Name': ['Alice', 'Bob', 'Charlie', 'Diana'],\n",
    "    'Age': [25, 30, 35, 40],\n",
    "    'City': ['New York', 'Los Angeles', 'Chicago', 'Houston'],\n",
    "    'Salary': [70000, 80000, 120000, 110000]\n",
    "}\n",
    "df = pd.DataFrame(data)\n",
    "\n",
    "# Example from your online activity:\n",
    "students = {'hours': [29, 9, 10, 38, 16, 26, 50, 10, 30, 33, 43, 2, 39, 15, 44, 29, 41, 15, 24, 50], \n",
    "            'test_results': [65, 7, 8, 76, 23, 56, 100, 3, 74, 48, 73, 0, 62, 37, 74, 40, 90, 42, 58, 100]}\n",
    "student_data = pd.DataFrame(data=students)\n",
    "\n",
    "print(student_data)\n"
   ]
  },
  {
   "cell_type": "markdown",
   "metadata": {},
   "source": [
    "### DataFrame from a File and saving to a File"
   ]
  },
  {
   "cell_type": "code",
   "execution_count": 12,
   "metadata": {},
   "outputs": [
    {
     "name": "stdout",
     "output_type": "stream",
     "text": [
      "   Hours  Scores\n",
      "0    2.5      21\n",
      "1    5.1      47\n",
      "2    3.2      27\n",
      "3    8.5      75\n",
      "4    3.5      30\n"
     ]
    }
   ],
   "source": [
    "# Load from CSV\n",
    "df = pd.read_csv('hours_scores.csv')\n",
    "print(df.head(5))\n",
    "# Save to CSV\n",
    "df.to_csv('hours_scores_no_indices.csv', index=False)\n",
    "df.to_csv('hours_scores_with_indices.csv')\n",
    "df = pd.read_excel('hours_scores.xlsx')\n",
    "df.to_excel('hours_scores_with_indices.xlsx')\n",
    "df.to_excel('hours_scores_no_indices.xlsx', index=False)"
   ]
  },
  {
   "cell_type": "markdown",
   "metadata": {},
   "source": [
    "#### Notes\n",
    "- `index=False`: Prevents the row index from being written to the file. \n",
    "    - By default, the row index of the DataFrame is included as a column in the output CSV file. \n",
    "    - Setting `index=False` excludes it, ensuring the CSV contains only the data columns."
   ]
  },
  {
   "cell_type": "markdown",
   "metadata": {},
   "source": [
    "###  Viewing Data"
   ]
  },
  {
   "cell_type": "code",
   "execution_count": null,
   "metadata": {},
   "outputs": [],
   "source": [
    "# Getting information about the dataframe: \n",
    "# Atributes\n",
    "ic(df.size)\n",
    "ic(df.shape)\n",
    "ic(df.index)\n",
    "ic(df.values)\n",
    "ic(df.ndim)\n",
    "\n",
    "# Methods:\n",
    "ic(df.describe())\n",
    "\n",
    "# Display the first 5 rows\n",
    "ic(df.head(5))\n",
    "\n",
    "# Display the last 5 rows\n",
    "ic(df.tail(5))\n",
    "\n",
    "ic(df.info())\n"
   ]
  },
  {
   "cell_type": "markdown",
   "metadata": {},
   "source": [
    "### Notes\n",
    "\n",
    "- `head(n)` displays the first `n` rows of the DataFrame (default is 5).\n",
    "- `tail(n)` displays the last `n` rows of the DataFrame (default is 5).\n",
    "- `describe()` provides summary statistics for numeric columns.\n"
   ]
  },
  {
   "cell_type": "markdown",
   "metadata": {},
   "source": [
    "### Selecting Columns"
   ]
  },
  {
   "cell_type": "code",
   "execution_count": null,
   "metadata": {},
   "outputs": [],
   "source": [
    "data = {\n",
    "    'Name': ['Alice', 'Bob', 'Charlie', 'Diana'],\n",
    "    'Age': [25, 30, 35, 40],\n",
    "    'City': ['New York', 'Los Angeles', 'Chicago', 'Houston'],\n",
    "    'Salary': [70000, 80000, 120000, 110000]\n",
    "}\n",
    "df = pd.DataFrame(data)\n",
    "# Select a single column\n",
    "ic(df['Name'])\n",
    "s = df[\"Name\"]\n",
    "ic(type(s))\n",
    "\n",
    "# Select multiple columns\n",
    "icprint(df[['Name', 'Salary']])\n",
    "# df.plot() # see below for a more menaingful plot"
   ]
  },
  {
   "cell_type": "markdown",
   "metadata": {},
   "source": [
    "### Selecting Rows with `loc` vs `iloc`"
   ]
  },
  {
   "cell_type": "code",
   "execution_count": null,
   "metadata": {},
   "outputs": [],
   "source": [
    "from icecream import ic\n",
    "# Select rows using loc (label-based)\n",
    "ic(type(df.loc[0]))\n",
    "ic(df.loc[0])  # First row\n",
    "ic(df.loc[0, 'City']) # City values in first row\n",
    "ic(df.loc[0, ['Name','City']]) # Name and City values in first row\n",
    "ic(df.loc[0:2])  # Rows with labels 0 to 2 (inclusive)\n",
    "# Select specific rows and columns using loc\n",
    "ic(df.loc[0:2, ['Name', 'Salary']])  # Rows 0 to 2 and specific columns\n",
    "\n",
    "# The index values for df are row numbers. Let's make \"Name\" the index in a copy of df:\n",
    "df2 = df.copy()\n",
    "df2 = df2.set_index(\"Name\")\n",
    "# Select the row for 'Alice'\n",
    "ic(df2.loc[\"Alice\"])\n",
    "# Select rows for 'Bob' and 'Diana'\n",
    "print(df2.loc[['Bob', 'Diana']])\n",
    "# Select the Salary of 'Charlie'\n",
    "print(df2.loc['Charlie', 'Salary'])\n",
    "# Select Age and Salary for 'Alice' and 'Charlie'\n",
    "print(df2.loc[['Alice', 'Charlie'], ['Age', 'Salary']])\n",
    "\n",
    "\n",
    "# Select rows using iloc (position-based)\n",
    "ic(df.iloc[0])  # First row\n",
    "ic(df.iloc[0:2])  # Rows at positions 0 to 2 (exclusive)\n",
    "# Select specific rows and columns using iloc\n",
    "ic(df.iloc[0:2, 1:3])  # Rows 0 to 2, columns 1 to 3 (exclusive)\n"
   ]
  },
  {
   "cell_type": "markdown",
   "metadata": {},
   "source": [
    "#### Notes\n",
    "- `loc` is label-based indexing: it selects rows and columns by their labels (names).\n",
    "- `iloc` is position-based indexing: it selects rows and columns by their integer positions.\n"
   ]
  },
  {
   "cell_type": "markdown",
   "metadata": {},
   "source": [
    "### Filtering Data"
   ]
  },
  {
   "cell_type": "code",
   "execution_count": null,
   "metadata": {},
   "outputs": [],
   "source": [
    "# Filter rows where Age > 30\n",
    "ic(df[df[\"Age\"] > 30])\n",
    "ic(df.loc[df[\"Age\"] > 30])\n",
    "\n",
    "# Filter rows where City is not 'New York'\n",
    "ic(df[df[\"City\"] != 'New York'])\n"
   ]
  },
  {
   "cell_type": "markdown",
   "metadata": {},
   "source": [
    "#### Notes\n",
    "\n",
    "- Use boolean indexing to filter rows based on conditions.\n",
    "- Combine conditions using `&` (and), `|` (or), and `~` (not) operators.\n"
   ]
  },
  {
   "cell_type": "markdown",
   "metadata": {},
   "source": [
    "### Modifying Data"
   ]
  },
  {
   "cell_type": "code",
   "execution_count": null,
   "metadata": {},
   "outputs": [],
   "source": [
    "# Add a new column\n",
    "df['Bonus'] = df['Salary'] * 0.1\n",
    "print(df)\n",
    "\n",
    "# Update a column\n",
    "df['Age'] = df['Age'] + 1\n",
    "print(df)\n",
    "\n",
    "# Drop a column\n",
    "df = df.drop('Bonus', axis=1)  # axis=1 means frop a column vs. a row\n",
    "print(df)\n"
   ]
  },
  {
   "cell_type": "markdown",
   "metadata": {},
   "source": [
    "#### Notes\n",
    "\n",
    "- Adding a new column: Assign values to a new column name.\n",
    "- Updating a column: Perform operations directly on an existing column.\n",
    "- Dropping a column: Use `drop` with `axis=1`.\n"
   ]
  },
  {
   "cell_type": "markdown",
   "metadata": {},
   "source": [
    "### Aggregate Functions and Grouping"
   ]
  },
  {
   "cell_type": "code",
   "execution_count": null,
   "metadata": {},
   "outputs": [],
   "source": [
    "# Calculate the average salary\n",
    "ic(df['Salary'].mean())\n",
    "\n",
    "# Group by 'City' and calculate the average salary\n",
    "ic(df.groupby('City')['Salary'].mean())\n"
   ]
  },
  {
   "cell_type": "markdown",
   "metadata": {},
   "source": [
    "#### Notes\n",
    "\n",
    "- Aggregation functions like `mean()`, `sum()`, `max()`, etc., can be applied to columns.\n",
    "- Use `groupby` to group data by one or more columns and perform aggregations.\n"
   ]
  },
  {
   "cell_type": "markdown",
   "metadata": {},
   "source": [
    "### Plotting Dataframes (Not in Quiz 4)"
   ]
  },
  {
   "cell_type": "code",
   "execution_count": 62,
   "metadata": {},
   "outputs": [
    {
     "data": {
      "image/png": "[encoded data removed]",
      "text/plain": [
       "<Figure size 640x480 with 1 Axes>"
      ]
     },
     "metadata": {},
     "output_type": "display_data"
    }
   ],
   "source": [
    "import matplotlib.pyplot as plt\n",
    "\n",
    "data = {\n",
    "    'Name': ['Alice', 'Bob', 'Charlie', 'Diana'],\n",
    "    'Age': [25, 30, 35, 40],\n",
    "    'City': ['New York', 'Los Angeles', 'Chicago', 'Houston'],\n",
    "    'Salary': [70000, 80000, 120000, 110000]\n",
    "}\n",
    "df = pd.DataFrame(data)\n",
    "\n",
    "# Scatter plot of Age vs Salary\n",
    "plt.scatter(df['Age'], df['Salary'], color='blue', label='Age vs Salary')\n",
    "\n",
    "# Adding titles and labels\n",
    "plt.title('Age vs Salary')\n",
    "plt.xlabel('Age')\n",
    "plt.ylabel('Salary')\n",
    "plt.legend()\n",
    "plt.grid(True)\n",
    "plt.show()\n"
   ]
  }
 ],
 "metadata": {
  "kernelspec": {
   "display_name": "base",
   "language": "python",
   "name": "python3"
  },
  "language_info": {
   "codemirror_mode": {
    "name": "ipython",
    "version": 3
   },
   "file_extension": ".py",
   "mimetype": "text/x-python",
   "name": "python",
   "nbconvert_exporter": "python",
   "pygments_lexer": "ipython3",
   "version": "3.9.12"
  }
 },
 "nbformat": 4,
 "nbformat_minor": 2
}
